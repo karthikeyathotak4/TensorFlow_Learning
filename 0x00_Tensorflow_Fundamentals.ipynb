{
  "nbformat": 4,
  "nbformat_minor": 0,
  "metadata": {
    "colab": {
      "name": "0x00_Tensorflow_Fundamentals.ipynb",
      "provenance": [],
      "authorship_tag": "ABX9TyO2TJ8F3EwckLMtFHlncmuz",
      "include_colab_link": true
    },
    "kernelspec": {
      "name": "python3",
      "display_name": "Python 3"
    },
    "language_info": {
      "name": "python"
    }
  },
  "cells": [
    {
      "cell_type": "markdown",
      "metadata": {
        "id": "view-in-github",
        "colab_type": "text"
      },
      "source": [
        "<a href=\"https://colab.research.google.com/github/karthikeyathotak4/TensorFlow_Learning/blob/main/0x00_Tensorflow_Fundamentals.ipynb\" target=\"_parent\"><img src=\"https://colab.research.google.com/assets/colab-badge.svg\" alt=\"Open In Colab\"/></a>"
      ]
    },
    {
      "cell_type": "markdown",
      "metadata": {
        "id": "gOtYJl9qG6vV"
      },
      "source": [
        "# **In this File, I am going to cover most fundamental concepts of tensors using TensorFlow**\n",
        "   More Specifically, I will cover:\n",
        "        # Introduction to tensors\n",
        "        # Getting Information from tensors\n",
        "        # Manipulating tensors\n",
        "        # Using @tf.function ( a way to speed up your regular Python Functions )\n",
        "        # We are going to use GPUs with TensorFlow\n",
        "        # Finally let's do some Exercises to try"
      ]
    },
    {
      "cell_type": "markdown",
      "metadata": {
        "id": "pLUYuclcHuIC"
      },
      "source": [
        "# **1. Intro to Tensors**"
      ]
    },
    {
      "cell_type": "code",
      "metadata": {
        "colab": {
          "base_uri": "https://localhost:8080/"
        },
        "id": "kgK8FGFPIEzF",
        "outputId": "6ac51afa-f8c9-46e1-f47d-9dfbbebac169"
      },
      "source": [
        "# Import TensorFlow\n",
        "import tensorflow as tf\n",
        "print(tf.__version__)"
      ],
      "execution_count": null,
      "outputs": [
        {
          "output_type": "stream",
          "text": [
            "2.4.1\n"
          ],
          "name": "stdout"
        }
      ]
    },
    {
      "cell_type": "code",
      "metadata": {
        "colab": {
          "base_uri": "https://localhost:8080/"
        },
        "id": "qTPyIy5PIXa2",
        "outputId": "ffeea10a-5c98-4079-a791-230c92750639"
      },
      "source": [
        "# Create tensors with tf.constant()\n",
        "scalar = tf.constant(7)\n",
        "scalar"
      ],
      "execution_count": null,
      "outputs": [
        {
          "output_type": "execute_result",
          "data": {
            "text/plain": [
              "<tf.Tensor: shape=(), dtype=int32, numpy=7>"
            ]
          },
          "metadata": {
            "tags": []
          },
          "execution_count": 51
        }
      ]
    },
    {
      "cell_type": "code",
      "metadata": {
        "colab": {
          "base_uri": "https://localhost:8080/"
        },
        "id": "8_q7GjOnI7ll",
        "outputId": "ed1c7197-78c6-44a8-a8b1-c8078052e760"
      },
      "source": [
        "# Check the number of dimensions of a tensor( ndim stands for number of dimensions )\n",
        "scalar.ndim"
      ],
      "execution_count": null,
      "outputs": [
        {
          "output_type": "execute_result",
          "data": {
            "text/plain": [
              "0"
            ]
          },
          "metadata": {
            "tags": []
          },
          "execution_count": 52
        }
      ]
    },
    {
      "cell_type": "code",
      "metadata": {
        "colab": {
          "base_uri": "https://localhost:8080/"
        },
        "id": "vxXneM68Jetk",
        "outputId": "e7cac3c2-56c5-436f-9844-0bef7284f704"
      },
      "source": [
        "# Create a Vector\n",
        "verctor = tf.constant([10, 10])\n",
        "verctor"
      ],
      "execution_count": null,
      "outputs": [
        {
          "output_type": "execute_result",
          "data": {
            "text/plain": [
              "<tf.Tensor: shape=(2,), dtype=int32, numpy=array([10, 10], dtype=int32)>"
            ]
          },
          "metadata": {
            "tags": []
          },
          "execution_count": 53
        }
      ]
    },
    {
      "cell_type": "code",
      "metadata": {
        "colab": {
          "base_uri": "https://localhost:8080/"
        },
        "id": "layvXzxSJnMn",
        "outputId": "63a7946b-e91b-4fe4-9c63-ee1acc2a3c67"
      },
      "source": [
        "# Check the dimension of our vector\n",
        "verctor.ndim"
      ],
      "execution_count": null,
      "outputs": [
        {
          "output_type": "execute_result",
          "data": {
            "text/plain": [
              "1"
            ]
          },
          "metadata": {
            "tags": []
          },
          "execution_count": 54
        }
      ]
    },
    {
      "cell_type": "code",
      "metadata": {
        "colab": {
          "base_uri": "https://localhost:8080/"
        },
        "id": "CZNeW9bnKBs1",
        "outputId": "ed9e21bc-0216-4c19-edb8-e9102399033b"
      },
      "source": [
        "# Create a matrix ( has more than 1 dimension)\n",
        "matrix = tf.constant([[10, 7], [7, 10]])\n",
        "\n",
        "matrix"
      ],
      "execution_count": null,
      "outputs": [
        {
          "output_type": "execute_result",
          "data": {
            "text/plain": [
              "<tf.Tensor: shape=(2, 2), dtype=int32, numpy=\n",
              "array([[10,  7],\n",
              "       [ 7, 10]], dtype=int32)>"
            ]
          },
          "metadata": {
            "tags": []
          },
          "execution_count": 55
        }
      ]
    },
    {
      "cell_type": "code",
      "metadata": {
        "colab": {
          "base_uri": "https://localhost:8080/"
        },
        "id": "DmVKGYa-V89S",
        "outputId": "7a47dea3-f053-409d-8096-e8e9dabe9c44"
      },
      "source": [
        "matrix.ndim"
      ],
      "execution_count": null,
      "outputs": [
        {
          "output_type": "execute_result",
          "data": {
            "text/plain": [
              "2"
            ]
          },
          "metadata": {
            "tags": []
          },
          "execution_count": 56
        }
      ]
    },
    {
      "cell_type": "code",
      "metadata": {
        "colab": {
          "base_uri": "https://localhost:8080/"
        },
        "id": "AfUurvUCWLfB",
        "outputId": "d97c7dfa-8c01-478d-af11-9789f02f3cce"
      },
      "source": [
        "# Create another matrix\n",
        "another_matrix = tf.constant([[4.,2.], [5.,7.], [6., 14.]], dtype=tf.float16) # Specify the data type with dtype parameter\n",
        "another_matrix"
      ],
      "execution_count": null,
      "outputs": [
        {
          "output_type": "execute_result",
          "data": {
            "text/plain": [
              "<tf.Tensor: shape=(3, 2), dtype=float16, numpy=\n",
              "array([[ 4.,  2.],\n",
              "       [ 5.,  7.],\n",
              "       [ 6., 14.]], dtype=float16)>"
            ]
          },
          "metadata": {
            "tags": []
          },
          "execution_count": 57
        }
      ]
    },
    {
      "cell_type": "code",
      "metadata": {
        "colab": {
          "base_uri": "https://localhost:8080/"
        },
        "id": "PaJVFjlgW2sC",
        "outputId": "d2ac0f49-00b2-4d2f-f207-c356aad519e9"
      },
      "source": [
        "# What's the number number dimenision of another_matrix?\n",
        "another_matrix.ndim"
      ],
      "execution_count": null,
      "outputs": [
        {
          "output_type": "execute_result",
          "data": {
            "text/plain": [
              "2"
            ]
          },
          "metadata": {
            "tags": []
          },
          "execution_count": 58
        }
      ]
    },
    {
      "cell_type": "code",
      "metadata": {
        "colab": {
          "base_uri": "https://localhost:8080/"
        },
        "id": "f6ixwK_CXNex",
        "outputId": "e4a3063e-6893-4dea-eb3c-b75cf60e512f"
      },
      "source": [
        "# Let's create a tensor\n",
        "tensor = tf.constant([[[1, 2, 3],\n",
        "                      [4, 5, 6]],\n",
        "                     [[7, 8, 9],\n",
        "                      [10, 11, 12]],\n",
        "                     [[13, 14, 15],\n",
        "                      [16, 17, 18]],\n",
        "                      [[19, 20, 21],\n",
        "                       [22, 23, 24]]])\n",
        "tensor"
      ],
      "execution_count": null,
      "outputs": [
        {
          "output_type": "execute_result",
          "data": {
            "text/plain": [
              "<tf.Tensor: shape=(4, 2, 3), dtype=int32, numpy=\n",
              "array([[[ 1,  2,  3],\n",
              "        [ 4,  5,  6]],\n",
              "\n",
              "       [[ 7,  8,  9],\n",
              "        [10, 11, 12]],\n",
              "\n",
              "       [[13, 14, 15],\n",
              "        [16, 17, 18]],\n",
              "\n",
              "       [[19, 20, 21],\n",
              "        [22, 23, 24]]], dtype=int32)>"
            ]
          },
          "metadata": {
            "tags": []
          },
          "execution_count": 59
        }
      ]
    },
    {
      "cell_type": "code",
      "metadata": {
        "colab": {
          "base_uri": "https://localhost:8080/"
        },
        "id": "Yo3FnuczX9NR",
        "outputId": "92905d89-893c-4dbf-ddec-54304b61b027"
      },
      "source": [
        "tensor.ndim"
      ],
      "execution_count": null,
      "outputs": [
        {
          "output_type": "execute_result",
          "data": {
            "text/plain": [
              "3"
            ]
          },
          "metadata": {
            "tags": []
          },
          "execution_count": 60
        }
      ]
    },
    {
      "cell_type": "markdown",
      "metadata": {
        "id": "eQOrCcuKZk4f"
      },
      "source": [
        "# **What we've created so far:**\n",
        "  * Scalar:  a single number\n",
        "  * Vector:  a number with direction(e.g wind speed and direction)\n",
        "  * Matrix:  a 2-dimensional array of numbers\n",
        "  * Tensor:  an n number of dimensional array of numbers (when n can be any number, a 0-dimensional tensor is a scalar, a 1-dimensional tensor is a vertor)"
      ]
    },
    {
      "cell_type": "markdown",
      "metadata": {
        "id": "d98aXYoTae4Y"
      },
      "source": [
        "### Creating tensors with `tf.Vairable`"
      ]
    },
    {
      "cell_type": "code",
      "metadata": {
        "colab": {
          "base_uri": "https://localhost:8080/"
        },
        "id": "HiXv6ZHNZNCh",
        "outputId": "9c02f44b-8990-4c15-945e-60946bc49902"
      },
      "source": [
        "# Create the same tensor  with tf.Variable() as above\n",
        "changeable_tensor = tf.Variable([10, 7])\n",
        "unchangealbe_tensor = tf.constant([10, 7])\n",
        "\n",
        "changeable_tensor, unchangealbe_tensor"
      ],
      "execution_count": null,
      "outputs": [
        {
          "output_type": "execute_result",
          "data": {
            "text/plain": [
              "(<tf.Variable 'Variable:0' shape=(2,) dtype=int32, numpy=array([10,  7], dtype=int32)>,\n",
              " <tf.Tensor: shape=(2,), dtype=int32, numpy=array([10,  7], dtype=int32)>)"
            ]
          },
          "metadata": {
            "tags": []
          },
          "execution_count": 61
        }
      ]
    },
    {
      "cell_type": "code",
      "metadata": {
        "colab": {
          "base_uri": "https://localhost:8080/",
          "height": 214
        },
        "id": "9CzRK7LRbKXC",
        "outputId": "7e58e6cc-f902-4e0f-8e62-bb5c8c90ec42"
      },
      "source": [
        "# Let's try change one of the elements in out changeable tensor\n",
        "changeable_tensor[0] = 7\n",
        "\n",
        "changeable_tensor"
      ],
      "execution_count": null,
      "outputs": [
        {
          "output_type": "error",
          "ename": "TypeError",
          "evalue": "ignored",
          "traceback": [
            "\u001b[0;31m---------------------------------------------------------------------------\u001b[0m",
            "\u001b[0;31mTypeError\u001b[0m                                 Traceback (most recent call last)",
            "\u001b[0;32m<ipython-input-62-61484747c94f>\u001b[0m in \u001b[0;36m<module>\u001b[0;34m()\u001b[0m\n\u001b[1;32m      1\u001b[0m \u001b[0;31m# Let's try change one of the elements in out changeable tensor\u001b[0m\u001b[0;34m\u001b[0m\u001b[0;34m\u001b[0m\u001b[0;34m\u001b[0m\u001b[0m\n\u001b[0;32m----> 2\u001b[0;31m \u001b[0mchangeable_tensor\u001b[0m\u001b[0;34m[\u001b[0m\u001b[0;36m0\u001b[0m\u001b[0;34m]\u001b[0m \u001b[0;34m=\u001b[0m \u001b[0;36m7\u001b[0m\u001b[0;34m\u001b[0m\u001b[0;34m\u001b[0m\u001b[0m\n\u001b[0m\u001b[1;32m      3\u001b[0m \u001b[0;34m\u001b[0m\u001b[0m\n\u001b[1;32m      4\u001b[0m \u001b[0mchangeable_tensor\u001b[0m\u001b[0;34m\u001b[0m\u001b[0;34m\u001b[0m\u001b[0m\n",
            "\u001b[0;31mTypeError\u001b[0m: 'ResourceVariable' object does not support item assignment"
          ]
        }
      ]
    },
    {
      "cell_type": "code",
      "metadata": {
        "id": "d18IUDS9bidm"
      },
      "source": [
        "# How about we try .assign()\n",
        "changeable_tensor[0].assign(7)\n",
        "changeable_tensor"
      ],
      "execution_count": null,
      "outputs": []
    },
    {
      "cell_type": "code",
      "metadata": {
        "id": "SWb5KcBWbwzR"
      },
      "source": [
        "# Let's try change our unchangable tensor\n",
        "unchangeable_tensor[0].assign(2)"
      ],
      "execution_count": null,
      "outputs": []
    },
    {
      "cell_type": "markdown",
      "metadata": {
        "id": "WabzLhMkcnv2"
      },
      "source": [
        "**🔑 Note:**\n",
        "Rarely in practice will you need to decide whether to use `tf.constant` or `tf.Variable` to create tensors, as TensorFlow does this for you. However, if in doubt, use `tf.constant` and change it later if needed"
      ]
    },
    {
      "cell_type": "markdown",
      "metadata": {
        "id": "Y4iXI5BjddYb"
      },
      "source": [
        "### Creating random tensors\n",
        "\n",
        "Random tensors are tensors of some abit"
      ]
    },
    {
      "cell_type": "code",
      "metadata": {
        "colab": {
          "base_uri": "https://localhost:8080/"
        },
        "id": "u7nZsTTWb-AQ",
        "outputId": "68f2889e-b4dc-436d-e5ca-3d1328c8b3b5"
      },
      "source": [
        "# Create two random ( but the same) tensors\n",
        "\n",
        "random_1 = tf.random.Generator.from_seed(42)  # set seed for reproducibility\n",
        "random_1 = random_1.normal(shape=(3, 2))\n",
        "random_1\n",
        "\n",
        "random_2 = tf.random.Generator.from_seed(42)\n",
        "random_2 = random_2.normal(shape=(3, 2))\n",
        "\n",
        "# Are they equal?\n",
        "random_1, random_2, random_2 == random_1"
      ],
      "execution_count": null,
      "outputs": [
        {
          "output_type": "execute_result",
          "data": {
            "text/plain": [
              "(<tf.Tensor: shape=(3, 2), dtype=float32, numpy=\n",
              " array([[-0.7565803 , -0.06854702],\n",
              "        [ 0.07595026, -1.2573844 ],\n",
              "        [-0.23193763, -1.8107855 ]], dtype=float32)>,\n",
              " <tf.Tensor: shape=(3, 2), dtype=float32, numpy=\n",
              " array([[-0.7565803 , -0.06854702],\n",
              "        [ 0.07595026, -1.2573844 ],\n",
              "        [-0.23193763, -1.8107855 ]], dtype=float32)>,\n",
              " <tf.Tensor: shape=(3, 2), dtype=bool, numpy=\n",
              " array([[ True,  True],\n",
              "        [ True,  True],\n",
              "        [ True,  True]])>)"
            ]
          },
          "metadata": {
            "tags": []
          },
          "execution_count": 65
        }
      ]
    },
    {
      "cell_type": "markdown",
      "metadata": {
        "id": "yPiQuwa9LHRQ"
      },
      "source": [
        "### Shuffle the order of elements in a tensor"
      ]
    },
    {
      "cell_type": "code",
      "metadata": {
        "id": "na7lg4r9LIPQ"
      },
      "source": [
        "# Shuffle a tensor (valuable for when you wnant to shuffle your data so the inhernet order doesn't effect learning )\n",
        "\n",
        "not_shuffled = tf.constant([[10, 7],\n",
        "                          [3, 4],\n",
        "                          [2, 5]])\n",
        "\n",
        "# Shuffle our non-shuffle tensor\n",
        "\n",
        "tf.random.shuffle(not_shuffled)"
      ],
      "execution_count": null,
      "outputs": []
    },
    {
      "cell_type": "code",
      "metadata": {
        "id": "V2nsFrNHNtIY"
      },
      "source": [
        "# Shuffle our non-shuffle tensor\n",
        "tf.random.set_seed(42)\n",
        "tf.random.shuffle(not_shuffled, seed=42)"
      ],
      "execution_count": null,
      "outputs": []
    },
    {
      "cell_type": "code",
      "metadata": {
        "id": "97nbG6pBLzLj"
      },
      "source": [
        "not_shuffled"
      ],
      "execution_count": null,
      "outputs": []
    },
    {
      "cell_type": "markdown",
      "metadata": {
        "id": "1RI0cyhUOuXo"
      },
      "source": [
        "### 📝 **HomeWork:** Read through TensorFlow documentation on random seed generation: https://www.tensorflow.org/api_docs/python/tf/random/set_seed and practice writing 5 random tensors and shuffle them"
      ]
    },
    {
      "cell_type": "markdown",
      "metadata": {
        "id": "jZbdmE9VQJmZ"
      },
      "source": [
        "Readig the documentation:\n",
        "    What is seed in TernsorFlow?\n",
        "      Seed is an abbreviation of the stander term \"random seed\". Tensorflow operators that produce random results accept an optional seed parameter.If pass the same number of two instances of the same operator, they will produce the same squence of results.\n",
        "\n",
        "  `tf.random.set_seed` = Sets the global random seed\n",
        "\n",
        "  `tf.random.shuffle(VALUE, seed= INT or FLOAT)` = Sets the operational seed\n",
        "\n",
        "Rules:\n",
        "  Operations that relys on a random seed actually derive it from two seeds: the global and operation-level seeds. This sets the global seed.\n",
        "\n",
        "  It interactions with operation-level seeds is as follows:\n",
        "\n",
        "    1. If neither the global and the operation seed is set: A randomly picked seed is used for it\n",
        "\n",
        "    2. If the graph-level seed is set, but the operation seed is not:  The system will pick the operation seed in conjection with the graph-level seed so that it gets a unique random sequence.\n",
        "\n",
        "    3. If the operation seed is set, but the global seed is not set: A default global seed and the specified operation seed are used to determine the random sequence.\n",
        "\n",
        "    4. If both the global and the operation seed are set: Both seeds are used in conjunction to determine the random sequence.\n"
      ]
    },
    {
      "cell_type": "code",
      "metadata": {
        "colab": {
          "base_uri": "https://localhost:8080/"
        },
        "id": "IC5PWReQPhox",
        "outputId": "99305a83-685a-4ab1-fcc8-87b2f0716aeb"
      },
      "source": [
        "# ------------------------------------------------------------------------------------ Home Work ---------------------------------------------------------------------------------------------------------------------------------\n",
        "\n",
        "# ------------------- Tensor number 1 ---------------------\n",
        "\n",
        "# Creating a tensor with tf.constant\n",
        "\n",
        "tensor_1 = tf.random.Generator.from_seed(10)\n",
        "tensor_1 = tensor_1.normal(shape=(3,2))\n",
        "\n",
        "print(\"This is the Result before shuffling :\\n\", tensor_1)\n",
        "\n",
        "print(\"\\n\")\n",
        "print(\"This is the result after shuffling :\\n\")\n",
        "tf.random.shuffle(tensor_1)\n",
        "\n"
      ],
      "execution_count": null,
      "outputs": [
        {
          "output_type": "stream",
          "text": [
            "This is the Result before shuffling :\n",
            " tf.Tensor(\n",
            "[[ 1.0278524   0.27974114]\n",
            " [-0.01347923  1.845181  ]\n",
            " [ 0.97061104 -1.0242516 ]], shape=(3, 2), dtype=float32)\n",
            "\n",
            "\n",
            "This is the result after shuffling :\n",
            "\n"
          ],
          "name": "stdout"
        },
        {
          "output_type": "execute_result",
          "data": {
            "text/plain": [
              "<tf.Tensor: shape=(3, 2), dtype=float32, numpy=\n",
              "array([[-0.01347923,  1.845181  ],\n",
              "       [ 0.97061104, -1.0242516 ],\n",
              "       [ 1.0278524 ,  0.27974114]], dtype=float32)>"
            ]
          },
          "metadata": {
            "tags": []
          },
          "execution_count": 88
        }
      ]
    },
    {
      "cell_type": "code",
      "metadata": {
        "colab": {
          "base_uri": "https://localhost:8080/"
        },
        "id": "hdXSdrRArvHJ",
        "outputId": "5101c757-35b8-46a2-9340-a5885ff9b3e7"
      },
      "source": [
        "# ------------------ Tensor Number 2 ------------------\n",
        "tensor_2 = tf.random.Generator.from_seed(100)\n",
        "tensor_2 = tensor_2.normal(shape=(4, 4))\n",
        "\n",
        "\n",
        "\n",
        "print(\"Before shuffling the tensors : \\n\", tensor_2)\n",
        "\n",
        "# Shuffling the tensors\n",
        "tensor_2 = tf.random.shuffle(tensor_2)\n",
        "print(\"After shuffling the tensors : \\n\", tensor_2)"
      ],
      "execution_count": null,
      "outputs": [
        {
          "output_type": "stream",
          "text": [
            "Before shuffling the tensors : \n",
            " tf.Tensor(\n",
            "[[-1.0130816   0.28291714  1.2132233   0.46988967]\n",
            " [ 0.37944323 -0.6664026   0.6054596   0.19181173]\n",
            " [ 0.8045827   0.4769051  -0.7812124  -0.996891  ]\n",
            " [ 0.33149973 -0.5445254   1.5222508   0.59303206]], shape=(4, 4), dtype=float32)\n",
            "After shuffling the tensors : \n",
            " tf.Tensor(\n",
            "[[ 0.8045827   0.4769051  -0.7812124  -0.996891  ]\n",
            " [-1.0130816   0.28291714  1.2132233   0.46988967]\n",
            " [ 0.33149973 -0.5445254   1.5222508   0.59303206]\n",
            " [ 0.37944323 -0.6664026   0.6054596   0.19181173]], shape=(4, 4), dtype=float32)\n"
          ],
          "name": "stdout"
        }
      ]
    },
    {
      "cell_type": "code",
      "metadata": {
        "colab": {
          "base_uri": "https://localhost:8080/"
        },
        "id": "jzgSwKkIL67T",
        "outputId": "be2e33a2-242c-40fd-abfe-751f46a5d6d5"
      },
      "source": [
        "# --------------------- Tensor Number 3 ----------------\n",
        "S = tf.random.set_seed(9)\n",
        "tensor_3 = tf.random.Generator.from_seed(1000)\n",
        "tensor_3 = tensor_3.normal(shape=(6, 6))\n",
        "print(\"Dimension of tensor_3 is : \", tensor_3.ndim)\n",
        "print(\"Befor Shuffling the tensors: \\n\", tensor_3)\n",
        "\n",
        "# Shuffling the tensors\n",
        "tensor_3 = tf.random.shuffle(tensor_3)\n",
        "print(\"After shuflling the tensors : \\n\", tensor_3)"
      ],
      "execution_count": null,
      "outputs": [
        {
          "output_type": "stream",
          "text": [
            "Dimension of tensor_3 is :  2\n",
            "Befor Shuffling the tensors: \n",
            " tf.Tensor(\n",
            "[[ 1.428492   -0.11131959 -0.98949283 -0.12332226 -1.9408084   0.5852516 ]\n",
            " [ 0.24558403 -1.0308076   0.18177792  1.3797795  -0.7982999   0.84330505]\n",
            " [ 0.15101781  0.22444367 -0.0479347   1.1848813   1.902318    0.30197945]\n",
            " [-0.69273     0.3778172   0.0679005   0.03989154  0.8619055  -0.38141087]\n",
            " [-0.23930925  0.24173513  0.7105374  -1.4099492  -0.67304814  0.0968298 ]\n",
            " [ 1.5919992   1.0718066  -0.39992824 -0.1343118  -0.6745226  -0.20809175]], shape=(6, 6), dtype=float32)\n",
            "After shuflling the tensors : \n",
            " tf.Tensor(\n",
            "[[-0.23930925  0.24173513  0.7105374  -1.4099492  -0.67304814  0.0968298 ]\n",
            " [ 1.428492   -0.11131959 -0.98949283 -0.12332226 -1.9408084   0.5852516 ]\n",
            " [ 0.24558403 -1.0308076   0.18177792  1.3797795  -0.7982999   0.84330505]\n",
            " [ 0.15101781  0.22444367 -0.0479347   1.1848813   1.902318    0.30197945]\n",
            " [ 1.5919992   1.0718066  -0.39992824 -0.1343118  -0.6745226  -0.20809175]\n",
            " [-0.69273     0.3778172   0.0679005   0.03989154  0.8619055  -0.38141087]], shape=(6, 6), dtype=float32)\n"
          ],
          "name": "stdout"
        }
      ]
    },
    {
      "cell_type": "code",
      "metadata": {
        "id": "q-3mhbS8M0KE",
        "colab": {
          "base_uri": "https://localhost:8080/"
        },
        "outputId": "34240551-9b70-4276-ad26-64e9e9d26464"
      },
      "source": [
        "# Tensor Number 4\n",
        "import tensorflow as tf\n",
        "\n",
        "tensor_4 = tf.random.Generator.from_seed(1000)\n",
        "tensor_4 = tensor_4.normal(shape=(10000, 10000)) # Ten Thousand\n",
        "\n",
        "print(\"There are \",tensor_4.ndim,\"Dimensions\")\n",
        "# Print Values before the Shuffling\n",
        "print(\"Values Before Shuffling :\\n\", tensor_4)\n",
        "\n",
        "\n",
        "\n",
        "# Shuffling the tensor value\n",
        "tensor_4 = tf.random.shuffle(tensor_4)\n",
        "\n",
        "# Printing the Values After Shuffling\n",
        "print(\"Values after shuffling : \\n\", tensor_4)"
      ],
      "execution_count": null,
      "outputs": [
        {
          "output_type": "stream",
          "text": [
            "There are  2 Dimensions\n",
            "Values Before Shuffling :\n",
            " tf.Tensor(\n",
            "[[ 1.428492   -0.11131959 -0.98949283 ...  0.4800271  -2.2037764\n",
            "  -0.49362984]\n",
            " [ 0.7650626  -0.4262426   0.2981213  ...  2.3630762   1.4497685\n",
            "  -0.44194874]\n",
            " [ 0.35772958 -2.143428    0.8555861  ... -1.3436735   0.37121654\n",
            "   0.4036901 ]\n",
            " ...\n",
            " [ 0.24998242 -1.3887842  -0.94313496 ... -0.3383281   0.14922103\n",
            "   0.99781376]\n",
            " [ 0.21825196  0.27063513 -0.6339465  ...  0.9512149  -1.9526484\n",
            "  -1.1082535 ]\n",
            " [-0.8324159   0.59630764 -0.05518086 ... -2.5894506   1.1696477\n",
            "  -0.693894  ]], shape=(10000, 10000), dtype=float32)\n",
            "Values after shuffling : \n",
            " tf.Tensor(\n",
            "[[ 1.5229791  -1.2697895   0.0098869  ...  1.1849686   1.3079083\n",
            "  -1.4683725 ]\n",
            " [ 2.581934    0.86931854 -0.5719408  ...  0.10543409  0.12852377\n",
            "  -0.45283732]\n",
            " [-0.5704333   1.898085   -0.35084242 ... -1.0208234  -0.17311518\n",
            "  -0.35269386]\n",
            " ...\n",
            " [-1.0570074   0.34339646 -0.61685556 ... -1.1676439  -0.4576272\n",
            "   0.5401313 ]\n",
            " [-1.6292181   1.7154305   0.38126457 ...  0.37811476 -0.87633413\n",
            "   1.8087156 ]\n",
            " [-2.7114897  -1.7058337  -0.00442845 ... -1.5141339   1.4142337\n",
            "  -0.2875907 ]], shape=(10000, 10000), dtype=float32)\n"
          ],
          "name": "stdout"
        }
      ]
    },
    {
      "cell_type": "code",
      "metadata": {
        "colab": {
          "base_uri": "https://localhost:8080/"
        },
        "id": "VhXrc3490-eJ",
        "outputId": "ef89226d-15ed-4b84-e593-75f38f9b4a32"
      },
      "source": [
        "import tensorflow as tf\n",
        "\n",
        "tensor_5 = tf.random.Generator.from_seed(0)\n",
        "tensor_5 = tensor_5.normal(shape=(20,2))\n",
        "\n",
        "# Prints the diemensions in tensor_5\n",
        "print(\"There are \",tensor_5.ndim,\"in tensor_5\")\n",
        "\n",
        "# Printing the values before shuffling\n",
        "print(\"Value of tensor_5: \\n\", tensor_5)\n",
        "\n",
        "# Shuffling the tensor_5's value\n",
        "tensor_5 = tf.random.shuffle(tensor_5)\n",
        "\n",
        "# Prints the value of tensor_5 after Shuffling\n",
        "print(\"Values after shuffling tensor_5 \\n\", tensor_5)"
      ],
      "execution_count": null,
      "outputs": [
        {
          "output_type": "stream",
          "text": [
            "There are  2 in tensor_5\n",
            "Value of tensor_5: \n",
            " tf.Tensor(\n",
            "[[-1.3544159   0.70454913]\n",
            " [ 0.03666191  0.86918795]\n",
            " [ 0.43842274 -0.53439844]\n",
            " [-0.07710262  1.5658046 ]\n",
            " [-0.1012345  -0.2744976 ]\n",
            " [ 1.4204658   1.2609464 ]\n",
            " [-0.43640924 -1.9633987 ]\n",
            " [-0.06452483 -1.056841  ]\n",
            " [ 1.0019137   0.6735137 ]\n",
            " [ 0.06987712 -1.4077919 ]\n",
            " [ 1.0278524   0.27974114]\n",
            " [-0.01347923  1.845181  ]\n",
            " [ 0.97061104 -1.0242516 ]\n",
            " [-0.6544423  -0.29738766]\n",
            " [-1.3240396   0.28785667]\n",
            " [-0.8757901  -0.08857018]\n",
            " [ 0.69211644  0.84215707]\n",
            " [-0.06378496  0.92800784]\n",
            " [-0.6039789  -0.1766927 ]\n",
            " [ 0.04221033  0.29037967]], shape=(20, 2), dtype=float32)\n",
            "Values after shuffling tensor_5 \n",
            " tf.Tensor(\n",
            "[[-0.1012345  -0.2744976 ]\n",
            " [ 1.0278524   0.27974114]\n",
            " [-0.8757901  -0.08857018]\n",
            " [ 1.0019137   0.6735137 ]\n",
            " [ 0.06987712 -1.4077919 ]\n",
            " [-0.07710262  1.5658046 ]\n",
            " [ 0.03666191  0.86918795]\n",
            " [-0.06452483 -1.056841  ]\n",
            " [-0.01347923  1.845181  ]\n",
            " [-0.06378496  0.92800784]\n",
            " [-0.6544423  -0.29738766]\n",
            " [-1.3240396   0.28785667]\n",
            " [ 0.69211644  0.84215707]\n",
            " [ 0.97061104 -1.0242516 ]\n",
            " [-0.6039789  -0.1766927 ]\n",
            " [-1.3544159   0.70454913]\n",
            " [-0.43640924 -1.9633987 ]\n",
            " [ 0.43842274 -0.53439844]\n",
            " [ 1.4204658   1.2609464 ]\n",
            " [ 0.04221033  0.29037967]], shape=(20, 2), dtype=float32)\n"
          ],
          "name": "stdout"
        }
      ]
    },
    {
      "cell_type": "markdown",
      "metadata": {
        "id": "uCK1qG2liavs"
      },
      "source": [
        "### Other ways to make tensors"
      ]
    },
    {
      "cell_type": "code",
      "metadata": {
        "colab": {
          "base_uri": "https://localhost:8080/"
        },
        "id": "Q9lzaZAJjq-L",
        "outputId": "6ae39aa1-9e21-40e8-a9f1-c2367f36be96"
      },
      "source": [
        "# Created a tensor of all ones\n",
        "tf.ones([10, 7])"
      ],
      "execution_count": null,
      "outputs": [
        {
          "output_type": "execute_result",
          "data": {
            "text/plain": [
              "<tf.Tensor: shape=(10, 7), dtype=float32, numpy=\n",
              "array([[1., 1., 1., 1., 1., 1., 1.],\n",
              "       [1., 1., 1., 1., 1., 1., 1.],\n",
              "       [1., 1., 1., 1., 1., 1., 1.],\n",
              "       [1., 1., 1., 1., 1., 1., 1.],\n",
              "       [1., 1., 1., 1., 1., 1., 1.],\n",
              "       [1., 1., 1., 1., 1., 1., 1.],\n",
              "       [1., 1., 1., 1., 1., 1., 1.],\n",
              "       [1., 1., 1., 1., 1., 1., 1.],\n",
              "       [1., 1., 1., 1., 1., 1., 1.],\n",
              "       [1., 1., 1., 1., 1., 1., 1.]], dtype=float32)>"
            ]
          },
          "metadata": {
            "tags": []
          },
          "execution_count": 2
        }
      ]
    },
    {
      "cell_type": "markdown",
      "metadata": {
        "id": "ShGefjLlj3Hb"
      },
      "source": [
        "### Create a tensor of all zeroes\n",
        "\n",
        "The main difference between NumPy arrays and TensorFlow tensors is that tensors can be run on GPU ( mus faster for numerical computing).\n"
      ]
    },
    {
      "cell_type": "code",
      "metadata": {
        "colab": {
          "base_uri": "https://localhost:8080/"
        },
        "id": "33wBJdqpkDV7",
        "outputId": "12a7240f-f658-4537-ef67-77e1935a5ce2"
      },
      "source": [
        "# You can also turn NumPy arrays into tensors\n",
        "import numpy as np\n",
        "numpy_A = np.arange(1, 25, dtype=np.int32) # create a NumpPy array between 1 and 25\n",
        "numpy_A\n",
        "\n",
        "# X = tf.constant(som_matrix) # capital for matrix or tensor\n",
        "# y = tf.constant(verctor) # non-capital for vector"
      ],
      "execution_count": null,
      "outputs": [
        {
          "output_type": "execute_result",
          "data": {
            "text/plain": [
              "array([ 1,  2,  3,  4,  5,  6,  7,  8,  9, 10, 11, 12, 13, 14, 15, 16, 17,\n",
              "       18, 19, 20, 21, 22, 23, 24], dtype=int32)"
            ]
          },
          "metadata": {
            "tags": []
          },
          "execution_count": 4
        }
      ]
    },
    {
      "cell_type": "code",
      "metadata": {
        "colab": {
          "base_uri": "https://localhost:8080/"
        },
        "id": "IzmcqgT_lRbN",
        "outputId": "96e0e226-f44e-4c73-d3c1-d2a9275c8b80"
      },
      "source": [
        "A = tf.constant(numpy_A, shape=(2, 3, 4))\n",
        "B = tf.constant(numpy_A)\n",
        "A, B"
      ],
      "execution_count": null,
      "outputs": [
        {
          "output_type": "execute_result",
          "data": {
            "text/plain": [
              "(<tf.Tensor: shape=(2, 3, 4), dtype=int32, numpy=\n",
              " array([[[ 1,  2,  3,  4],\n",
              "         [ 5,  6,  7,  8],\n",
              "         [ 9, 10, 11, 12]],\n",
              " \n",
              "        [[13, 14, 15, 16],\n",
              "         [17, 18, 19, 20],\n",
              "         [21, 22, 23, 24]]], dtype=int32)>,\n",
              " <tf.Tensor: shape=(24,), dtype=int32, numpy=\n",
              " array([ 1,  2,  3,  4,  5,  6,  7,  8,  9, 10, 11, 12, 13, 14, 15, 16, 17,\n",
              "        18, 19, 20, 21, 22, 23, 24], dtype=int32)>)"
            ]
          },
          "metadata": {
            "tags": []
          },
          "execution_count": 6
        }
      ]
    },
    {
      "cell_type": "markdown",
      "metadata": {
        "id": "FbFZ3UMWmIoK"
      },
      "source": [
        "# Getting information from tensors\n",
        "\n",
        "\n",
        "* Shape - The length( number of elements) of each of the dimensions of a tensor.CODE - `tensor.shape`\n",
        "* Rank - The number of tensor dimensions. A scalar has rank 0, a vector has rank 1, a matrix is rank 2, a tensor has rank n. CODE - `tensor.ndim`\n",
        "* Axis or dimension - A particular dimension of a tensor.CODE- `tensor[0], tensor[: 1]..`\n",
        "* Size - The total number of items in the tensor. CODE- `tf.size(tensor)`"
      ]
    },
    {
      "cell_type": "code",
      "metadata": {
        "colab": {
          "base_uri": "https://localhost:8080/"
        },
        "id": "CJfDqsIilcjb",
        "outputId": "b705cc05-9147-4a86-a1ec-d681c74fd022"
      },
      "source": [
        "# Create a rank for tensor ( 4 dimensions)\n",
        "rank_4_tensor = tf.zeros([2,3, 4, 5])\n",
        "rank_4_tensor"
      ],
      "execution_count": null,
      "outputs": [
        {
          "output_type": "execute_result",
          "data": {
            "text/plain": [
              "<tf.Tensor: shape=(2, 3, 4, 5), dtype=float32, numpy=\n",
              "array([[[[0., 0., 0., 0., 0.],\n",
              "         [0., 0., 0., 0., 0.],\n",
              "         [0., 0., 0., 0., 0.],\n",
              "         [0., 0., 0., 0., 0.]],\n",
              "\n",
              "        [[0., 0., 0., 0., 0.],\n",
              "         [0., 0., 0., 0., 0.],\n",
              "         [0., 0., 0., 0., 0.],\n",
              "         [0., 0., 0., 0., 0.]],\n",
              "\n",
              "        [[0., 0., 0., 0., 0.],\n",
              "         [0., 0., 0., 0., 0.],\n",
              "         [0., 0., 0., 0., 0.],\n",
              "         [0., 0., 0., 0., 0.]]],\n",
              "\n",
              "\n",
              "       [[[0., 0., 0., 0., 0.],\n",
              "         [0., 0., 0., 0., 0.],\n",
              "         [0., 0., 0., 0., 0.],\n",
              "         [0., 0., 0., 0., 0.]],\n",
              "\n",
              "        [[0., 0., 0., 0., 0.],\n",
              "         [0., 0., 0., 0., 0.],\n",
              "         [0., 0., 0., 0., 0.],\n",
              "         [0., 0., 0., 0., 0.]],\n",
              "\n",
              "        [[0., 0., 0., 0., 0.],\n",
              "         [0., 0., 0., 0., 0.],\n",
              "         [0., 0., 0., 0., 0.],\n",
              "         [0., 0., 0., 0., 0.]]]], dtype=float32)>"
            ]
          },
          "metadata": {
            "tags": []
          },
          "execution_count": 7
        }
      ]
    },
    {
      "cell_type": "code",
      "metadata": {
        "colab": {
          "base_uri": "https://localhost:8080/"
        },
        "id": "Qclj-zWqohcj",
        "outputId": "74eb3bbc-ab18-4030-d7f5-5874440e001c"
      },
      "source": [
        "rank_4_tensor[0]"
      ],
      "execution_count": null,
      "outputs": [
        {
          "output_type": "execute_result",
          "data": {
            "text/plain": [
              "<tf.Tensor: shape=(3, 4, 5), dtype=float32, numpy=\n",
              "array([[[0., 0., 0., 0., 0.],\n",
              "        [0., 0., 0., 0., 0.],\n",
              "        [0., 0., 0., 0., 0.],\n",
              "        [0., 0., 0., 0., 0.]],\n",
              "\n",
              "       [[0., 0., 0., 0., 0.],\n",
              "        [0., 0., 0., 0., 0.],\n",
              "        [0., 0., 0., 0., 0.],\n",
              "        [0., 0., 0., 0., 0.]],\n",
              "\n",
              "       [[0., 0., 0., 0., 0.],\n",
              "        [0., 0., 0., 0., 0.],\n",
              "        [0., 0., 0., 0., 0.],\n",
              "        [0., 0., 0., 0., 0.]]], dtype=float32)>"
            ]
          },
          "metadata": {
            "tags": []
          },
          "execution_count": 8
        }
      ]
    },
    {
      "cell_type": "code",
      "metadata": {
        "id": "wq-5QwQGo2Cr"
      },
      "source": [
        "# Start at https://youtu.be/tpCFfeUEGs8?t=7243"
      ],
      "execution_count": null,
      "outputs": []
    }
  ]
}